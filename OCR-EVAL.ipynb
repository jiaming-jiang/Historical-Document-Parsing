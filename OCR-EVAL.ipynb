{
 "cells": [
  {
   "cell_type": "code",
   "execution_count": null,
   "metadata": {},
   "outputs": [
    {
     "name": "stdout",
     "output_type": "stream",
     "text": [
      "^C\n",
      "Collecting pyspellchecker\n",
      "  Obtaining dependency information for pyspellchecker from https://files.pythonhosted.org/packages/99/8e/7c79443d302a80cfd59bc365938d51e36e7e9aa7ce8ab1d8a0ca0c8e6065/pyspellchecker-0.8.2-py3-none-any.whl.metadata\n",
      "  Downloading pyspellchecker-0.8.2-py3-none-any.whl.metadata (9.4 kB)\n",
      "Downloading pyspellchecker-0.8.2-py3-none-any.whl (7.1 MB)\n",
      "   ---------------------------------------- 0.0/7.1 MB ? eta -:--:--\n",
      "    --------------------------------------- 0.2/7.1 MB 3.1 MB/s eta 0:00:03\n",
      "   - -------------------------------------- 0.2/7.1 MB 2.4 MB/s eta 0:00:03\n",
      "   -- ------------------------------------- 0.4/7.1 MB 2.6 MB/s eta 0:00:03\n",
      "   --- ------------------------------------ 0.6/7.1 MB 3.1 MB/s eta 0:00:03\n",
      "   ------ --------------------------------- 1.2/7.1 MB 4.3 MB/s eta 0:00:02\n",
      "   -------- ------------------------------- 1.5/7.1 MB 4.9 MB/s eta 0:00:02\n",
      "   ---------- ----------------------------- 1.9/7.1 MB 5.4 MB/s eta 0:00:01\n",
      "   ------------- -------------------------- 2.3/7.1 MB 5.5 MB/s eta 0:00:01\n",
      "   --------------- ------------------------ 2.7/7.1 MB 5.8 MB/s eta 0:00:01\n",
      "   ----------------- ---------------------- 3.2/7.1 MB 6.0 MB/s eta 0:00:01\n",
      "   -------------------- ------------------- 3.6/7.1 MB 6.2 MB/s eta 0:00:01\n",
      "   ---------------------- ----------------- 4.0/7.1 MB 6.4 MB/s eta 0:00:01\n",
      "   ------------------------ --------------- 4.4/7.1 MB 6.5 MB/s eta 0:00:01\n",
      "   -------------------------- ------------- 4.8/7.1 MB 6.5 MB/s eta 0:00:01\n",
      "   ----------------------------- ---------- 5.2/7.1 MB 6.7 MB/s eta 0:00:01\n",
      "   ------------------------------- -------- 5.6/7.1 MB 6.8 MB/s eta 0:00:01\n",
      "   --------------------------------- ------ 6.1/7.1 MB 6.9 MB/s eta 0:00:01\n",
      "   ----------------------------------- ---- 6.3/7.1 MB 6.8 MB/s eta 0:00:01\n",
      "   ------------------------------------- -- 6.7/7.1 MB 6.8 MB/s eta 0:00:01\n",
      "   ---------------------------------------  7.0/7.1 MB 6.9 MB/s eta 0:00:01\n",
      "   ---------------------------------------  7.1/7.1 MB 6.9 MB/s eta 0:00:01\n",
      "   ---------------------------------------- 7.1/7.1 MB 6.5 MB/s eta 0:00:00\n",
      "Installing collected packages: pyspellchecker\n",
      "Successfully installed pyspellchecker-0.8.2\n"
     ]
    }
   ],
   "source": [
    "!pip uninstall spellchecker\n",
    "\n"
   ]
  },
  {
   "cell_type": "code",
   "execution_count": null,
   "metadata": {},
   "outputs": [],
   "source": [
    "!pip install pyspellchecker"
   ]
  },
  {
   "cell_type": "code",
   "execution_count": null,
   "metadata": {},
   "outputs": [
    {
     "name": "stdout",
     "output_type": "stream",
     "text": [
      "🔍 Evaluating OCR Quality...\n",
      "\n",
      "[Entropy] OCR Entropy Score: 4.5732\n",
      "[Spell Check - French] Error Rate: 2.70% (Misspelled: 1845 / 68272)\n",
      "\n",
      "✅ Evaluation Complete!\n"
     ]
    }
   ],
   "source": [
    "import re\n",
    "import math\n",
    "from spellchecker import SpellChecker\n",
    "from collections import Counter\n",
    "\n",
    "def load_text_from_file(file_path):\n",
    "    \"\"\" Load text from a TXT file \"\"\"\n",
    "    with open(file_path, \"r\", encoding=\"utf-8\") as file:\n",
    "        return file.read().strip()\n",
    "\n",
    "def compute_text_entropy(text):\n",
    "    \"\"\" Computes Shannon entropy of the text \"\"\"\n",
    "    text = text.lower()\n",
    "    frequency = Counter(text)\n",
    "    total_chars = len(text)\n",
    "    \n",
    "    entropy = -sum((count / total_chars) * math.log2(count / total_chars) for count in frequency.values())\n",
    "    return entropy\n",
    "\n",
    "def evaluate_ocr_spellcheck(text):\n",
    "    \"\"\" Evaluates OCR quality using spell-check error rate (French) \"\"\"\n",
    "    spell = SpellChecker(language=\"fr\")  # Set language to French\n",
    "    words = re.findall(r'\\b[a-zA-Z]+\\b', text.lower())  # Extract words\n",
    "    misspelled = spell.unknown(words)\n",
    "    error_rate = len(misspelled) / max(1, len(words))  # Avoid division by zero\n",
    "    print(f\"[Spell Check - French] Error Rate: {error_rate:.2%} (Misspelled: {len(misspelled)} / {len(words)})\")\n",
    "    return error_rate\n",
    "\n",
    "\n",
    "def main(ocr_txt_path, reference_txt_path=None):\n",
    "    \"\"\" Run all OCR quality evaluation methods \"\"\"\n",
    "    print(\"🔍 Evaluating OCR Quality...\\n\")\n",
    "\n",
    "    # Load OCR text\n",
    "    ocr_text = load_text_from_file(ocr_txt_path)\n",
    "\n",
    "    # 1️⃣ Entropy-based evaluation\n",
    "    entropy_score = compute_text_entropy(ocr_text)\n",
    "    print(f\"[Entropy] OCR Entropy Score: {entropy_score:.4f}\")\n",
    "\n",
    "    # 2️⃣ Spell-check evaluation\n",
    "    spell_error_rate = evaluate_ocr_spellcheck(ocr_text)\n",
    "\n",
    "    print(\"\\n✅ Evaluation Complete!\")\n",
    "    return {\n",
    "        \"entropy_score\": entropy_score,\n",
    "        \"spell_error_rate\": spell_error_rate\n",
    "    }\n",
    "\n",
    "\n",
    "ocr_txt_path = \"extracted_text_2.txt\"  \n",
    "\n",
    "results = main(ocr_txt_path)\n"
   ]
  },
  {
   "cell_type": "code",
   "execution_count": null,
   "metadata": {},
   "outputs": [
    {
     "name": "stdout",
     "output_type": "stream",
     "text": [
      "🔍 Evaluating OCR Quality...\n",
      "\n",
      "[Entropy] OCR Entropy Score: 4.9034\n",
      "[Spell Check - French] Error Rate: 8.86% (Misspelled: 7188 / 81113)\n",
      "\n",
      "✅ Evaluation Complete!\n"
     ]
    }
   ],
   "source": [
    "\n",
    "ocr_txt_path = \"extracted_text_12.txt\"  \n",
    "\n",
    "results = main(ocr_txt_path)\n"
   ]
  },
  {
   "cell_type": "code",
   "execution_count": null,
   "metadata": {},
   "outputs": [
    {
     "name": "stdout",
     "output_type": "stream",
     "text": [
      "🔍 Evaluating OCR Quality...\n",
      "\n",
      "[Entropy] OCR Entropy Score: 4.5612\n",
      "[Spell Check - French] Error Rate: 9.18% (Misspelled: 7843 / 85436)\n",
      "\n",
      "✅ Evaluation Complete!\n"
     ]
    }
   ],
   "source": [
    "\n",
    "ocr_txt_path = \"extracted_text_12_BW.txt\"  \n",
    "\n",
    "results = main(ocr_txt_path)\n"
   ]
  }
 ],
 "metadata": {
  "kernelspec": {
   "display_name": "ada",
   "language": "python",
   "name": "python3"
  },
  "language_info": {
   "codemirror_mode": {
    "name": "ipython",
    "version": 3
   },
   "file_extension": ".py",
   "mimetype": "text/x-python",
   "name": "python",
   "nbconvert_exporter": "python",
   "pygments_lexer": "ipython3",
   "version": "3.9.18"
  }
 },
 "nbformat": 4,
 "nbformat_minor": 2
}
